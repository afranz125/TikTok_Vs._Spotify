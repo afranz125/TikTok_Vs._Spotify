{
 "cells": [
  {
   "cell_type": "code",
   "execution_count": 54,
   "metadata": {},
   "outputs": [],
   "source": [
    "import numpy as np\n",
    "import pandas as pd\n",
    "import matplotlib.pyplot as plt\n",
    "from sklearn.neighbors import KNeighborsClassifier\n",
    "from sklearn.metrics import accuracy_score\n",
    "from sklearn.model_selection import train_test_split, KFold, cross_val_score\n",
    "\n",
    "plt.rcParams[\"figure.figsize\"] = (20,10)\n",
    "plt.rcParams[\"font.size\"] =14"
   ]
  },
  {
   "cell_type": "markdown",
   "metadata": {},
   "source": [
    "Cleaning the data"
   ]
  },
  {
   "cell_type": "code",
   "execution_count": 55,
   "metadata": {},
   "outputs": [
    {
     "name": "stdout",
     "output_type": "stream",
     "text": [
      "                                        artist_names  \\\n",
      "0                                      Glass Animals   \n",
      "1                       The Kid LAROI, Justin Bieber   \n",
      "2                                             Anitta   \n",
      "3    Imagine Dragons, JID, Arcane, League of Legends   \n",
      "4                                              GAYLE   \n",
      "..                                               ...   \n",
      "641                                            SALES   \n",
      "642                                    Morgan Wallen   \n",
      "643            Lil Nas X, YoungBoy Never Broke Again   \n",
      "644                               Eminem, Snoop Dogg   \n",
      "645                                     Taylor Swift   \n",
      "\n",
      "                                            track_name  weeks_on_chart  \\\n",
      "0                                           Heat Waves              65   \n",
      "1                            STAY (with Justin Bieber)              37   \n",
      "2                                             Envolver               3   \n",
      "3    Enemy (with JID) - from the series Arcane Leag...              21   \n",
      "4                                              abcdefu              19   \n",
      "..                                                 ...             ...   \n",
      "641                                 Pope Is a Rockstar               5   \n",
      "642                                  Don't Think Jesus               1   \n",
      "643  Late To Da Party (F*CK BET) (feat. YoungBoy Ne...               1   \n",
      "644             From The D 2 The LBC (with Snoop Dogg)               1   \n",
      "645  Carolina - From The Motion Picture “Where The ...               1   \n",
      "\n",
      "     danceability  energy  instrumentalness  \n",
      "0           0.761   0.525          0.000007  \n",
      "1           0.591   0.764          0.000000  \n",
      "2           0.812   0.736          0.002540  \n",
      "3           0.728   0.783          0.000000  \n",
      "4           0.695   0.540          0.000000  \n",
      "..            ...     ...               ...  \n",
      "641         0.725   0.446          0.243000  \n",
      "642         0.578   0.431          0.000000  \n",
      "643         0.872   0.422          0.000000  \n",
      "644         0.730   0.785          0.000000  \n",
      "645         0.476   0.189          0.000005  \n",
      "\n",
      "[646 rows x 6 columns]\n",
      "                                        artist_names  \\\n",
      "0                                      Glass Animals   \n",
      "1                       The Kid LAROI, Justin Bieber   \n",
      "2                                             Anitta   \n",
      "3    Imagine Dragons, JID, Arcane, League of Legends   \n",
      "4                                              GAYLE   \n",
      "..                                               ...   \n",
      "641                                            SALES   \n",
      "642                                    Morgan Wallen   \n",
      "643            Lil Nas X, YoungBoy Never Broke Again   \n",
      "644                               Eminem, Snoop Dogg   \n",
      "645                                     Taylor Swift   \n",
      "\n",
      "                                            track_name  weeks_on_chart  \\\n",
      "0                                           Heat Waves              65   \n",
      "1                            STAY (with Justin Bieber)              37   \n",
      "2                                             Envolver               3   \n",
      "3    Enemy (with JID) - from the series Arcane Leag...              21   \n",
      "4                                              abcdefu              19   \n",
      "..                                                 ...             ...   \n",
      "641                                 Pope Is a Rockstar               5   \n",
      "642                                  Don't Think Jesus               1   \n",
      "643  Late To Da Party (F*CK BET) (feat. YoungBoy Ne...               1   \n",
      "644             From The D 2 The LBC (with Snoop Dogg)               1   \n",
      "645  Carolina - From The Motion Picture “Where The ...               1   \n",
      "\n",
      "     danceability  energy  instrumentalness  \n",
      "0           0.761   0.525          0.000007  \n",
      "1           0.591   0.764          0.000000  \n",
      "2           0.812   0.736          0.002540  \n",
      "3           0.728   0.783          0.000000  \n",
      "4           0.695   0.540          0.000000  \n",
      "..            ...     ...               ...  \n",
      "641         0.725   0.446          0.243000  \n",
      "642         0.578   0.431          0.000000  \n",
      "643         0.872   0.422          0.000000  \n",
      "644         0.730   0.785          0.000000  \n",
      "645         0.476   0.189          0.000005  \n",
      "\n",
      "[646 rows x 6 columns]\n"
     ]
    }
   ],
   "source": [
    "dfs = pd.read_csv(\"datasets/spotify_top_charts_22.csv\")\n",
    "dft = pd.read_csv(\"datasets/TikTok_songs_2022.csv\")\n",
    "#dancibility, weeks on charts, artist_names, track_names, energy and instramentalness\n",
    "spotify = dfs[[\"artist_names\", \"track_name\", \"weeks_on_chart\", \"danceability\", \"energy\", \"instrumentalness\"]].dropna()\n",
    "tiktok = dfs[[\"artist_names\", \"track_name\", \"weeks_on_chart\", \"danceability\", \"energy\", \"instrumentalness\"]].dropna()\n",
    "#646 x 6 on both\n",
    "#I believe that is all there is not much to take out of the data "
   ]
  }
 ],
 "metadata": {
  "kernelspec": {
   "display_name": "Python 3",
   "language": "python",
   "name": "python3"
  },
  "language_info": {
   "codemirror_mode": {
    "name": "ipython",
    "version": 3
   },
   "file_extension": ".py",
   "mimetype": "text/x-python",
   "name": "python",
   "nbconvert_exporter": "python",
   "pygments_lexer": "ipython3",
   "version": "3.8.10"
  }
 },
 "nbformat": 4,
 "nbformat_minor": 2
}
